{
  "nbformat": 4,
  "nbformat_minor": 0,
  "metadata": {
    "colab": {
      "name": "GB DZ-1 Matan",
      "provenance": [],
      "authorship_tag": "ABX9TyMyO/JtKCqa5U91DD6gxEAJ",
      "include_colab_link": true
    },
    "kernelspec": {
      "name": "python3",
      "display_name": "Python 3"
    },
    "language_info": {
      "name": "python"
    }
  },
  "cells": [
    {
      "cell_type": "markdown",
      "metadata": {
        "id": "view-in-github",
        "colab_type": "text"
      },
      "source": [
        "<a href=\"https://colab.research.google.com/github/AIexndr/MTaN/blob/main/GB_DZ_1_Matan.ipynb\" target=\"_parent\"><img src=\"https://colab.research.google.com/assets/colab-badge.svg\" alt=\"Open In Colab\"/></a>"
      ]
    },
    {
      "cell_type": "markdown",
      "metadata": {
        "id": "hMtXWiVchzFE"
      },
      "source": [
        "Задал этот вопрос нейронной сетке - вот что она ответила ))) - Что такое множество и что такое последовательность?  “Множество” и “последовательность” – это одно и то же понятие, только в разных значениях. Часть отвечает, что это целое, часть отвечает, что это часть. В связи с этим, возникает вопрос, как соотносятся понятия “множество” и “последовательность”? Если бы у меня не было ни денег, ни квартиры, то я не стала бы ни писать, ни читать ничего подобного. Это так же, как с понятием “множество” и “последовательность”.\n"
      ]
    },
    {
      "cell_type": "markdown",
      "metadata": {
        "id": "YFqUUjI1G9bi"
      },
      "source": [
        "1. Как соотносятся понятия “множество” и “последовательность”? \n",
        "\n",
        "Смотрим википедию -\n",
        "В математике последовательность — это пронумерованный набор каких-либо объектов, среди которых допускаются повторения, причём порядок объектов имеет значение. Нумерация чаще всего происходит натуральными числами. Более общие случаи см. в разделе Вариации и обобщения.\n",
        "\n",
        "Мно́жество — одно из ключевых понятий математики; это математический объект, представляющий собой набор, совокупность каких-либо объектов, отличающуюся от кортежей тем свойством, что смысл этой совокупности не изменяется от перестановки объектов или добавления одних и тех же. Сами объекты называются элементами этого множества.\n",
        "\n",
        "Как видим - последовательность это или часть множества, которое имеет упорядоченную пронумерованную структуру с определённым значением, либо всё множество которое упорядочено, тоесть - пронумеровано и порядок его обьектов имеет значение.\n",
        "\n",
        "\n",
        "\n",
        "\n"
      ]
    },
    {
      "cell_type": "markdown",
      "metadata": {
        "id": "BIPH1FiqJDy5"
      },
      "source": [
        "2) Прочитать высказывания математической логики, построить их отрицания и установить истинность.\n",
        "\n",
        "1.$\\forall y \\in[0 ; 1] : \\operatorname{sgn}(y)=1$\n",
        "\n",
        "Для любого y, принадлежащего отрезку от 0 до 1 включительно, верно, что значение функции sgn(y) равно 1.\n",
        "\n",
        "\n",
        "sgn (сигнум, от лат. signum — знак) — кусочно-постоянная функция действительного аргумента. Обозначается sgn x. Определяется следующим образом:\n",
        "\n",
        " sgn  x=  \\begin{cases}\\ \\ 1,&x>0\\\\\\ \\ 0,&x=0\\\\-1,&x<0\\end{cases}\n",
        "\n",
        "Это выражение ложно, потому что в 0, у=0\n",
        "\n",
        "Отрицание:\n",
        "$\\exists y \\in[0 ; 1] : \\operatorname{sgn}(y)\\not=1$\n",
        "\n",
        "существует у принадлежащий отрезку от 0 до 1 включительно такое, что значение функции sgn(y) не равно 1."
      ]
    },
    {
      "cell_type": "markdown",
      "metadata": {
        "id": "Q2I-mcRyE-zX"
      },
      "source": [
        "2."
      ]
    },
    {
      "cell_type": "markdown",
      "metadata": {
        "id": "lcDN9ZHveYQS"
      },
      "source": [
        "![image.png](data:image/png;base64,iVBORw0KGgoAAAANSUhEUgAAARQAAAAOCAYAAADuSuMwAAAGQElEQVRoBe3YC5FkNRQG4EhAAhJwAA7AATgAB+AAHIAEHIADcAAOwAHUt9v/1JlMkpvb01PbO7upupXc5Dz+88ztbu3t+KW19tll3U9ftdZ+6Dfv5B2231pr303wfNJa+2Zyttr+orX2R2vtv8tMz3MGDHCOnpnfn6PvtfGKB9/N8vDaOL82P92NPT+11jSV0fj9yqIcybr1Hsyfttbgl1T9UMiS8cxQ4L9e+PCyX2Oh59qBl6z+IfcsvmsxvM984suHGsooDhr+c5v+kX/k1+cXIjkywnEk45bnwVBx3VL+jiy5Sz9fPLoYbfw7kJD9UbEOyK/a8nXx8+D2lkRHQ+GnqYwaYpWxW7jwVHutFf7sdjzCuDr/kBrKc+Istrk0akzj25zl/SVmBfP3pXDY4qJ5V0NO8gkc8vrPzYsJ7a1w84eeQaaL+4lcoHzm18/yvxZfLr0zKUghUnLUwZ3TB0gcgy/Po47XKyuBrQ2l11mTD90/rbXvC86B2Acb6hnHwTgb7D6SO+LdbSh8Et+aj3wz0oUvN2zOr5ET3t2ZXnGWX9fEWUw183ydZK76xXY16N2xFU2ls47fxcAFBo8CeokLptpAT8Xi3ZPBn3AY1juDDU8Kf4dxQAMbvTD5Oqy19oYcOAQpaHM60EDewxaBHK04OJ+jgdaMVgPNUSKs+JMk9NemEh4G903AHlpYfRXVAIWvn9mEfkXLd2hqAvRyRu94+Hk26HYuLgIWX5/1GzmCLp5JQrK8n8WMHp/4eXJrz2zIV+Ts/GgfXjrZkC+RmrzsWBV34tfnQq+Xn8lx6RjWsMc/dEYP/2f/Qv5oQueCWT2ruJNNHyzwG/Dzt2GP381o4dwZdEbGLv0s1vDEH7A++ckZx6dwKAd6Z8T5lJDjfQU8ybwje0ZTk6o2lOCHZRb0JCFn+SJbBbc6bobFPrtng3zNY/SsdEceDPyZAGb/7MxnNfnIW+EeyZc44eHfJ4lUmNCxOfTlaHtZ4wxvYpc4p+GsBJ7RD2/0VJmaeuRYz3ILD/6jZyfu8jMXALnxBZ9nLTfQ7MhDs6rLaq91jS17qw55lBjwh3X88yBHYQJoWHPKziAwRY2eshUvYLpv/XnVr+OwmX76MhgT/dk/4sfLAeiSRJGXmRN35IT+7ExvDdKMH81zC5Ns9pCTUZM1e7szWTXhRny3jnPilZnOxHuk/5o9BTeKeeqCTOfsf+nBttgnx5Mr5hSz9azWYKx15afnqO6O7BjFuuq0HvpDgvipImAUB/RKIVpJWh2usw4VXARxAj3m2XPE3xcDx48ayww7+X72wB7eSsuualM9u9WabvYfDVjRrnxyJCPnYlN9nv0z865vxKPXV3Vbr2xy1sdZ8pKbOQV3Bv+KNpfjiubojF3+r1o9O7WVeqTvmlwUp+pvMthX96xXYzfWUxl+5ujAu59GjJY0GQDW9+z3Mz1HN1zPk3f4GFpHbSZk94kYWjp1bRglZS8Hnb3+lrK3kwTRszPvNBR6JYJ4XJNUPY58Pc7809OP3s/gWMViJLvu0dP7PLEx88lz7Ki6rMmi8+j/v56vf4fr6NnBzcbkyFHh9xhG72TAdWacifVQrkJixI7BBLgh6i2hSIFWuH0yVIVpRN9OirrS9uuqr57Zp1PRCEYd9EmUowTH59Pwx+5PtVUgBArPzF7noz/okiwVZ9ZkuaEFFCZ+1QjZkVsdDZuc7Q60fNBj5TPye7/1cvn4635z8c52zfuWcWYD/HK1t6OHknjy22w4g9OMPnHZrYGZ3Fvsi9Us38/KZ+Mqj3t5Z2Pd8795FyBKjxIrzJQCmiEo+JP02R/NaNAKYP+sDJ91zWAfBUASrpIq+NDR3T8znfhixyy5JWYvL+8zP+FR5DmPbdUGMUKz80UY+8RqZIvilLw1luHJ7Ixv6csX3E5RswHOPsbe+WE2RjjRshsfmTsDXfVb5Yms2jzYFPsq7btYw75bi0f4xG/l78pfY60mjJ1YX0g/Tu+rByRbAr5jw6xI8WoWO8kbnWTdS+Ht2P6+0WjEqwZ/1h5xywW1y/sx1rueeiV0ivqoCUhKNCtaN/jZZHslLrwrM8Tpy0u8Zl9VdwX4I5gPzwM+m3e/Pj4879yXxZq6nyX1J9h9IVyg+R/32ouZ8zyO1gAAAABJRU5ErkJggg==)\n",
        "\n",
        "Для любого n из множества натуральных чисел и больше 2 существуют такие x,y,z из множества натуральных чисел, что справедливо равенство x^n = y^n + z^n - это утверждение истина - только тут мало места, чтобы это доказать ;))\n",
        "\n",
        "https://nauka.tass.ru/lyudi-i-veschi/6822177\n"
      ]
    },
    {
      "cell_type": "markdown",
      "metadata": {
        "id": "RdaWPHX9g783"
      },
      "source": [
        "https://coderoad.ru/5242319/%D1%87%D1%82%D0%BE-%D1%8D%D1%82%D0%BE-%D0%B7%D0%BD%D0%B0%D1%87%D0%B8%D1%82-image-png-base64"
      ]
    },
    {
      "cell_type": "markdown",
      "metadata": {
        "id": "zcgLhwiG9tSY"
      },
      "source": [
        "3. $\\forall x \\in \\mathbb{R} \\exists X \\in \\mathbb{R}  : X > x  $\n",
        "Для любого x из множества действительных чисел существует такое X из множества действительных чисел, что X > x.\n",
        "Это выражение истинно.\n",
        "\n",
        "Отрицание:\n",
        "$\\exists x \\in \\mathbb{R} \\forall X \\in \\mathbb{R} : X\\leq x$"
      ]
    },
    {
      "cell_type": "markdown",
      "metadata": {
        "id": "rcDuAlBF-blG"
      },
      "source": [
        "4. $\\forall x \\in \\mathbb{C} \\not \\exists y \\in \\mathbb{C} : x>y \\| x<y$\n",
        "Для любого х из множества комплексных чисел не существует такого y из множества комплексных чисел что справедливо неравенство x > y или x < y\n",
        "Это выражение ложно. Комплексные только по абсолютной величине. Однако комплексные числа можно сравнивать на равно/не равно: ... Модулем (абсолютной величиной) комплексного числа называется длина​ \n",
        "\n",
        "Отрицание:\n",
        "$\\exists x \\in \\mathbb{C} \\exists y \\in \\mathbb{C} : x \\leq y , x \\geq y$"
      ]
    },
    {
      "cell_type": "markdown",
      "metadata": {
        "id": "_w4YCx4KCjor"
      },
      "source": [
        "P.S. Кстати, на лекции спрашивали про физический смысл - может это как пример  \"Во многих областях электротехники (в основном радиочастотной и оптической) используется не запись уравнений тока и напряжения для цепи, а напрямую уравнения Максвелла в их спектральном представлении, физические величины которых заданы в комплексной плоскости, и при переходе из ${\\displaystyle (t,x)}- в {\\displaystyle (\\omega ,k)}$-пространство (где ${\\displaystyle t}$ — время, ${\\displaystyle \\omega }$\\omega  — угловая частота)  посредством преобразования Фурье получаются более простые уравнения без производных\" (из Википедии )"
      ]
    },
    {
      "cell_type": "markdown",
      "metadata": {
        "id": "x01x0ZvK_aCS"
      },
      "source": [
        "5. $ \\forall y \\in\\left[0 ; \\frac{\\pi}{2}\\right] \\exists \\varepsilon >0 : \\sin y<\\sin (y+\\varepsilon)$\n",
        "Для любого y, принадлежащего отрезку от 0 до $\\frac{\\pi}2$ включительно, существует такое положительное значение $\\varepsilon$, что справедливо неравенство sin(y) < sin(y+$\\varepsilon$)\n",
        "Это выражение ложно.\n",
        "\n",
        "Отрицание:\n",
        "$\\exists y \\in\\left[0 ; \\frac{\\pi}{2}\\right] \\forall \\varepsilon>0 : \\sin y \\geq \\sin (y+\\varepsilon)$"
      ]
    },
    {
      "cell_type": "markdown",
      "metadata": {
        "id": "GAWWvFQsANfH"
      },
      "source": [
        "6. $\\forall y \\in[0 ; \\pi) \\exists \\varepsilon>0 : \\cos y>\\cos (y+\\varepsilon)$\n",
        "Для любого y, принадлежащего отрезку от 0 включительно до ${\\pi}$ ислючительно, существует такое положительное значение $\\varepsilon$, что справедливо неравенство cos(y) > cos(y+$\\varepsilon$)\n",
        "Это выражение ложно.\n",
        "\n",
        "Отрицание:\n",
        "$\\exists y \\in[0 ; \\pi) \\forall \\varepsilon>0 : \\cos y \\leq \\cos (y+\\varepsilon)$"
      ]
    },
    {
      "cell_type": "markdown",
      "metadata": {
        "id": "sO3X5u_rA3F8"
      },
      "source": [
        "7. $\\exists x : x \\notin\\{\\mathbb{N}, \\mathbb{Z}, \\mathbb{Q}, \\mathbb{R}, \\mathbb{C}\\}$\n",
        "Для любого х справедливо, что х принадлежит множеству натуральных или целых или рациональных или вещественных или комплексных чисел.\n",
        "Это выражение ложно.\n",
        " \n",
        "Отрицание:\n",
        "$\\forall x : x \\in\\{\\mathbb{C}\\}$"
      ]
    },
    {
      "cell_type": "markdown",
      "metadata": {
        "id": "ge3IJqv8yduk"
      },
      "source": [
        "Тема “Множество”\n",
        "1. Даны три множества a,b и с. Необходимо выполнить все изученные виды бинарных\n",
        "операций над всеми комбинациями множеств.\n",
        "2. *Выполнить задание 1 на языке Python\n",
        "\n",
        "код на питоне я нашёл,  однако пока ещё не разобрал его полностью, решение там страницы на три - комбинаций всех сочетаний.\n",
        "\n",
        "у нас 5 - бинарных операций(операции над 2мя множествами), насколько я понимаю - пересечение, обьединение, разность, симметричная разность, декартово произведение. Погуглил нашёл следующее - Возможные бинарные операции на множестве {'a','b','c'}, т.е. функции от двух переменных из этого множества, принимающие значения в этом же множестве.\n",
        "Всего таких функций будет 3^9=19683. (Если по 50 строк на страницу - 4000 строк) Тут непонятно - почему в 9-й степени.\n",
        " \n",
        " Частично решение на Python приведено ниже - "
      ]
    },
    {
      "cell_type": "code",
      "metadata": {
        "id": "73WhjUJEhGTy"
      },
      "source": [
        "\n",
        "import numpy as np\n",
        "import itertools"
      ],
      "execution_count": null,
      "outputs": []
    },
    {
      "cell_type": "code",
      "metadata": {
        "id": "3jyxbuWNhISd"
      },
      "source": [
        "\n",
        "A = set([1,2,3,4])\n",
        "B = set([2,4,6,8,10])\n",
        "C = set([1, 2, 3, 4, 5, 6, 7, 8, 9, 10, 11])\n",
        "setlist = [A, B, C]"
      ],
      "execution_count": null,
      "outputs": []
    },
    {
      "cell_type": "code",
      "metadata": {
        "id": "BYJ3I5zchQKL"
      },
      "source": [
        "binary_ops = [(\"intersection\", 0, u'\\u22C2'), \n",
        "              (\"union\", 1, u'\\u22C3'), \n",
        "              (\"subtraction\", 2, \"\\\\\"), \n",
        "              (\"symm_diff\", 3, u'\\u25B3'), \n",
        "              (\"dek_prod\", 4, u'\\u2A2F')]"
      ],
      "execution_count": null,
      "outputs": []
    },
    {
      "cell_type": "code",
      "metadata": {
        "id": "mZzLzMVJhSFw"
      },
      "source": [
        "def dekart_product(A,B):\n",
        "    return set(itertools.product(*[A,B]))"
      ],
      "execution_count": null,
      "outputs": []
    },
    {
      "cell_type": "code",
      "metadata": {
        "id": "jgeDq35LhXQq"
      },
      "source": [
        "def solve_bin_ops(A, B, op_code):\n",
        "#    (\"intersection\", 0, u'\\u22C2')\n",
        "#    (\"union\", 1, u'\\u22C3')\n",
        "#    (\"subtraction\", 2, \"\\\\\")\n",
        "#    (\"symm_diff\", 3, u'\\u25B3')\n",
        "#    (\"dek_prod\", 4, u'\\u2A2F')\n",
        "    if op_code == 0:\n",
        "        return A.intersection(B)\n",
        "    elif op_code == 1:\n",
        "        return A.union(B)\n",
        "    elif op_code == 2:\n",
        "        return A.difference(B)\n",
        "    elif op_code == 3:\n",
        "        return A.symmetric_difference(B)\n",
        "    elif op_code == 4:\n",
        "        return dekart_product(A, B)\n",
        "    else:\n",
        "        print(\"Wrong op_code:\", op_code)"
      ],
      "execution_count": null,
      "outputs": []
    },
    {
      "cell_type": "code",
      "metadata": {
        "id": "kYgWN3zihl5-"
      },
      "source": [
        "def solve_expression(sets_, ops_):\n",
        "    if len(sets_) == 3:\n",
        "        op1 = ops_[0][1]\n",
        "        op2 = ops_[1][1]\n",
        "        if op2 == 0 and op1 != 0:\n",
        "            summary = solve_bin_ops(sets_[1], sets_[2], op2)\n",
        "            summary = solve_bin_ops(sets_[0], summary, op1)\n",
        "        else:\n",
        "            summary = solve_bin_ops(sets_[0], sets_[1], op1)\n",
        "            summary = solve_bin_ops(summary, sets_[2], op2)\n",
        "        return summary\n",
        "    elif len(sets_) == 2:\n",
        "        op = ops_[0][1]\n",
        "        return solve_bin_ops(sets_[0], sets_[1], op)\n",
        "    else:\n",
        "        print(\"Wrong sets count\")"
      ],
      "execution_count": null,
      "outputs": []
    },
    {
      "cell_type": "code",
      "metadata": {
        "id": "RG_mNJQohr0D"
      },
      "source": [
        "\n",
        "def namestr(obj, namespace=globals()):\n",
        "    for name in namespace:\n",
        "        if namespace[name] is obj:\n",
        "            return name"
      ],
      "execution_count": null,
      "outputs": []
    },
    {
      "cell_type": "code",
      "metadata": {
        "id": "xeuxyByEhvi5"
      },
      "source": [
        "def parse_combination(combination_):\n",
        "    return [(namestr(comb_val), comb_val) for comb_val in combination_]"
      ],
      "execution_count": null,
      "outputs": []
    },
    {
      "cell_type": "code",
      "metadata": {
        "id": "hYnSfdjUh3Wz"
      },
      "source": [
        "three_sets = itertools.product(setlist, repeat=3)\n",
        "two_sets = itertools.product(setlist, repeat=2)\n",
        "two_ops = list(itertools.product(binary_ops, repeat=2))\n",
        "one_op = list(itertools.combinations(binary_ops, 1))"
      ],
      "execution_count": null,
      "outputs": []
    },
    {
      "cell_type": "code",
      "metadata": {
        "colab": {
          "base_uri": "https://localhost:8080/"
        },
        "id": "EgIr31Qsh8ip",
        "outputId": "df1e4c04-4fa0-4be6-abb1-e19a1b107c3c"
      },
      "source": [
        "for combination_ in two_sets:\n",
        "    parsed_combination = parse_combination(combination_)\n",
        "    set_names = [val[0] for val in parsed_combination]\n",
        "    sets_ = [val[1] for val in parsed_combination]\n",
        "    for op in one_op:\n",
        "        print(set_names[0], op[0][2], set_names[1], \"=\", solve_expression(sets_, op))\n",
        "        print()"
      ],
      "execution_count": null,
      "outputs": [
        {
          "output_type": "stream",
          "text": [
            "A ⋂ A = {1, 2, 3, 4}\n",
            "\n",
            "A ⋃ A = {1, 2, 3, 4}\n",
            "\n",
            "A \\ A = set()\n",
            "\n",
            "A △ A = set()\n",
            "\n",
            "A ⨯ A = {(1, 2), (3, 2), (1, 3), (4, 1), (3, 3), (3, 1), (4, 4), (2, 1), (1, 4), (2, 4), (2, 3), (4, 3), (2, 2), (4, 2), (3, 4), (1, 1)}\n",
            "\n",
            "A ⋂ B = {2, 4}\n",
            "\n",
            "A ⋃ B = {1, 2, 3, 4, 6, 8, 10}\n",
            "\n",
            "A \\ B = {1, 3}\n",
            "\n",
            "A △ B = {1, 3, 6, 8, 10}\n",
            "\n",
            "A ⨯ B = {(4, 8), (2, 8), (1, 6), (1, 2), (3, 10), (4, 4), (3, 6), (2, 2), (1, 10), (4, 10), (3, 2), (2, 6), (1, 4), (2, 10), (4, 2), (4, 6), (3, 8), (1, 8), (3, 4), (2, 4)}\n",
            "\n",
            "A ⋂ C = {1, 2, 3, 4}\n",
            "\n",
            "A ⋃ C = {1, 2, 3, 4, 5, 6, 7, 8, 9, 10, 11}\n",
            "\n",
            "A \\ C = set()\n",
            "\n",
            "A △ C = {5, 6, 7, 8, 9, 10, 11}\n",
            "\n",
            "A ⨯ C = {(4, 7), (1, 3), (4, 8), (2, 8), (3, 11), (2, 1), (1, 6), (3, 7), (2, 5), (1, 11), (1, 2), (4, 9), (3, 3), (2, 9), (3, 10), (4, 4), (1, 5), (3, 6), (2, 2), (1, 10), (4, 1), (1, 1), (4, 10), (3, 2), (2, 6), (4, 5), (1, 4), (2, 10), (3, 9), (2, 3), (1, 9), (4, 2), (4, 11), (3, 5), (2, 7), (4, 6), (3, 1), (2, 11), (3, 8), (1, 8), (4, 3), (1, 7), (3, 4), (2, 4)}\n",
            "\n",
            "B ⋂ A = {2, 4}\n",
            "\n",
            "B ⋃ A = {1, 2, 3, 4, 6, 8, 10}\n",
            "\n",
            "B \\ A = {8, 10, 6}\n",
            "\n",
            "B △ A = {1, 3, 6, 8, 10}\n",
            "\n",
            "B ⨯ A = {(2, 1), (6, 2), (8, 4), (10, 3), (8, 1), (4, 4), (6, 3), (2, 2), (4, 1), (6, 4), (8, 2), (10, 4), (2, 3), (10, 1), (4, 2), (8, 3), (6, 1), (4, 3), (2, 4), (10, 2)}\n",
            "\n",
            "B ⋂ B = {2, 4, 6, 8, 10}\n",
            "\n",
            "B ⋃ B = {2, 4, 6, 8, 10}\n",
            "\n",
            "B \\ B = set()\n",
            "\n",
            "B △ B = set()\n",
            "\n",
            "B ⨯ B = {(4, 8), (6, 6), (2, 8), (10, 6), (6, 2), (10, 8), (4, 4), (6, 10), (8, 10), (10, 2), (2, 2), (8, 6), (4, 10), (6, 4), (2, 6), (8, 2), (10, 4), (2, 10), (4, 2), (4, 6), (6, 8), (10, 10), (8, 8), (2, 4), (8, 4)}\n",
            "\n",
            "B ⋂ C = {2, 4, 6, 8, 10}\n",
            "\n",
            "B ⋃ C = {1, 2, 3, 4, 5, 6, 7, 8, 9, 10, 11}\n",
            "\n",
            "B \\ C = set()\n",
            "\n",
            "B △ C = {1, 3, 5, 7, 9, 11}\n",
            "\n",
            "B ⨯ C = {(4, 7), (6, 9), (10, 11), (4, 8), (6, 6), (2, 8), (10, 6), (2, 1), (8, 9), (6, 2), (2, 5), (8, 5), (10, 3), (10, 8), (4, 9), (6, 7), (2, 9), (8, 1), (10, 7), (4, 4), (6, 10), (8, 10), (10, 2), (6, 3), (2, 2), (8, 6), (4, 1), (10, 9), (4, 10), (6, 4), (2, 6), (8, 2), (10, 4), (4, 5), (6, 11), (8, 11), (2, 10), (2, 3), (8, 7), (10, 1), (4, 2), (4, 11), (6, 5), (2, 7), (8, 3), (10, 5), (4, 6), (6, 8), (10, 10), (6, 1), (2, 11), (8, 8), (4, 3), (2, 4), (8, 4)}\n",
            "\n",
            "C ⋂ A = {1, 2, 3, 4}\n",
            "\n",
            "C ⋃ A = {1, 2, 3, 4, 5, 6, 7, 8, 9, 10, 11}\n",
            "\n",
            "C \\ A = {5, 6, 7, 8, 9, 10, 11}\n",
            "\n",
            "C △ A = {5, 6, 7, 8, 9, 10, 11}\n",
            "\n",
            "C ⨯ A = {(7, 3), (1, 3), (9, 1), (11, 2), (2, 1), (6, 2), (9, 4), (5, 1), (10, 3), (7, 2), (1, 2), (3, 3), (8, 1), (4, 4), (10, 2), (6, 3), (11, 1), (2, 2), (3, 4), (4, 1), (1, 1), (6, 4), (3, 2), (5, 4), (11, 4), (8, 2), (10, 4), (7, 1), (9, 3), (1, 4), (2, 3), (10, 1), (4, 2), (5, 3), (8, 3), (9, 2), (6, 1), (3, 1), (11, 3), (7, 4), (4, 3), (5, 2), (2, 4), (8, 4)}\n",
            "\n",
            "C ⋂ B = {2, 4, 6, 8, 10}\n",
            "\n",
            "C ⋃ B = {1, 2, 3, 4, 5, 6, 7, 8, 9, 10, 11}\n",
            "\n",
            "C \\ B = {1, 3, 5, 7, 9, 11}\n",
            "\n",
            "C △ B = {1, 3, 5, 7, 9, 11}\n",
            "\n",
            "C ⨯ B = {(4, 8), (5, 6), (2, 8), (6, 6), (9, 8), (10, 6), (11, 2), (6, 2), (1, 6), (9, 4), (5, 8), (7, 2), (1, 2), (10, 8), (11, 10), (3, 10), (4, 4), (6, 10), (7, 6), (8, 10), (10, 2), (3, 6), (2, 2), (1, 10), (7, 10), (8, 6), (4, 10), (3, 2), (2, 6), (5, 4), (6, 4), (8, 2), (10, 4), (11, 4), (5, 2), (1, 4), (2, 10), (9, 10), (4, 2), (9, 6), (7, 8), (5, 10), (4, 6), (6, 8), (10, 10), (9, 2), (11, 8), (3, 8), (7, 4), (1, 8), (8, 8), (3, 4), (2, 4), (11, 6), (8, 4)}\n",
            "\n",
            "C ⋂ C = {1, 2, 3, 4, 5, 6, 7, 8, 9, 10, 11}\n",
            "\n",
            "C ⋃ C = {1, 2, 3, 4, 5, 6, 7, 8, 9, 10, 11}\n",
            "\n",
            "C \\ C = set()\n",
            "\n",
            "C △ C = set()\n",
            "\n",
            "C ⨯ C = {(7, 3), (6, 9), (11, 11), (1, 6), (3, 7), (2, 5), (1, 11), (8, 5), (5, 8), (10, 8), (6, 7), (5, 5), (11, 5), (10, 7), (7, 6), (6, 10), (1, 1), (4, 10), (3, 2), (2, 6), (8, 2), (5, 11), (4, 5), (9, 3), (7, 5), (3, 1), (2, 11), (9, 9), (7, 8), (3, 11), (2, 1), (8, 9), (9, 4), (5, 1), (10, 3), (7, 2), (11, 10), (1, 5), (3, 6), (2, 2), (1, 10), (8, 6), (4, 1), (10, 9), (9, 7), (6, 4), (5, 4), (11, 4), (10, 4), (7, 1), (6, 11), (11, 9), (4, 11), (3, 5), (2, 7), (8, 3), (5, 10), (4, 6), (10, 10), (9, 2), (6, 1), (5, 7), (11, 3), (7, 4), (1, 3), (4, 8), (2, 8), (9, 8), (6, 2), (7, 11), (3, 10), (8, 10), (9, 11), (1, 4), (3, 9), (2, 3), (1, 9), (8, 7), (4, 2), (9, 6), (6, 5), (5, 3), (11, 7), (10, 5), (6, 8), (11, 8), (1, 7), (3, 4), (2, 4), (8, 4), (5, 9), (4, 7), (10, 11), (9, 1), (6, 6), (5, 6), (11, 2), (10, 6), (7, 7), (1, 2), (4, 9), (3, 3), (2, 9), (8, 1), (4, 4), (6, 3), (11, 1), (7, 10), (8, 11), (2, 10), (9, 10), (10, 1), (7, 9), (3, 8), (1, 8), (8, 8), (4, 3), (9, 5), (5, 2), (11, 6), (10, 2)}\n",
            "\n"
          ],
          "name": "stdout"
        }
      ]
    },
    {
      "cell_type": "markdown",
      "metadata": {
        "id": "G1jXVLyZSjB-"
      },
      "source": [
        "На языке Python предложить алгоритм вычисляющий численно предел\n",
        "  $\\lim _{n \\rightarrow+\\infty} \\frac{n}{\\sqrt[n]{n !}}$с точностью $\\varepsilon=10^{-7}$\n",
        "\n",
        "формула Стирлинга (также формула Муавра — Стирлинга) для аппроксимации функции факториала\n",
        "$$n ! \\approx \\sqrt{2 \\pi n}\\left(\\frac{n}{e}\\right)^{n}$$\n",
        "После подстановки формулы Стирлинга в функцию получаем:\n",
        "$$\\lim _{n \\rightarrow+\\infty} \\frac{e}{\\sqrt[2n]{\\pi n}}$$"
      ]
    },
    {
      "cell_type": "code",
      "metadata": {
        "id": "nzJvIWX9GHeI"
      },
      "source": [
        "def f(n):\n",
        "    return (np.exp(1))/((np.pi*n)**(1/(2*n)))"
      ],
      "execution_count": null,
      "outputs": []
    },
    {
      "cell_type": "markdown",
      "metadata": {
        "id": "f7-hs7uJGUFA"
      },
      "source": [
        "Так как значения функции Стирлинга имеют приближенное значение к значению функции факториала, будем искать такие два ближайшие значения функции, разность которых меньше 1e-09"
      ]
    },
    {
      "cell_type": "code",
      "metadata": {
        "colab": {
          "base_uri": "https://localhost:8080/"
        },
        "id": "3iOJyAz0GYkd",
        "outputId": "004ad3ec-244a-44e3-b507-86f428b271c4"
      },
      "source": [
        "prev = f(1)\n",
        "for i in range(2, 200000000):\n",
        "    new_val = f(i)\n",
        "    if new_val - prev >= 1e-09:\n",
        "        prev = new_val\n",
        "    else:\n",
        "        print(i, new_val, prev)\n",
        "        break"
      ],
      "execution_count": null,
      "outputs": [
        {
          "output_type": "stream",
          "text": [
            "127163 2.7181439763031636 2.7181439753031715\n"
          ],
          "name": "stdout"
        }
      ]
    }
  ]
}