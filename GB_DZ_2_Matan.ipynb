{
  "nbformat": 4,
  "nbformat_minor": 0,
  "metadata": {
    "colab": {
      "name": "GB_DZ_2_Matan.ipynb",
      "provenance": [],
      "collapsed_sections": [],
      "authorship_tag": "ABX9TyNSGQ2BO+hwc2axEWMtMxln",
      "include_colab_link": true
    },
    "kernelspec": {
      "name": "python3",
      "display_name": "Python 3"
    },
    "language_info": {
      "name": "python"
    }
  },
  "cells": [
    {
      "cell_type": "markdown",
      "metadata": {
        "id": "view-in-github",
        "colab_type": "text"
      },
      "source": [
        "<a href=\"https://colab.research.google.com/github/AIexndr/MTaN/blob/main/GB_DZ_2_Matan.ipynb\" target=\"_parent\"><img src=\"https://colab.research.google.com/assets/colab-badge.svg\" alt=\"Open In Colab\"/></a>"
      ]
    },
    {
      "cell_type": "markdown",
      "metadata": {
        "id": "yqjZeo8NOmP2"
      },
      "source": [
        "Даны 4 последовательности.\n",
        "\n",
        "\n",
        "\n",
        "Необходимо: исследовать их на монотонность; исследовать на ограниченность; найти пятый по счету член.\n",
        "\n",
        "\n",
        "\n"
      ]
    },
    {
      "cell_type": "code",
      "metadata": {
        "colab": {
          "base_uri": "https://localhost:8080/"
        },
        "id": "pz6U0zd6OsjK",
        "outputId": "3ad814ff-41c1-499c-c182-5653e309bb82"
      },
      "source": [
        "import math\n",
        "n = 5 # пятый член последовательности вычисляем подстановкой в формулу\n",
        "print(2 ** n - n)\n",
        "print( 1 / (1 - (n + 1)))\n",
        "print( -1 ** n + math.sqrt(2 * n))\n",
        "print( (-1) ** (2 * n) + 1 / (n**2))"
      ],
      "execution_count": 2,
      "outputs": [
        {
          "output_type": "stream",
          "text": [
            "27\n",
            "-0.2\n",
            "2.1622776601683795\n",
            "1.04\n"
          ],
          "name": "stdout"
        }
      ]
    },
    {
      "cell_type": "markdown",
      "metadata": {
        "id": "8i37-zJDP8BO"
      },
      "source": [
        "${{a_n}}^\\infty_{n=1} = 2^n - n$ - возрастающая, не ограничена  $a_5 = 27$</p>\n",
        "\n",
        "${{b_n}}^\\infty_{n=2} = \\frac{1}{1-n}$ - возрастающая, ограниченная  $b_5 = -0.2$\n",
        "\n",
        "${{c_n}}^\\infty_{n=1} = -1^n + \\sqrt{2n}$ -  возрастает, не ограниченна $c_5 = 2.162$\n",
        "\n",
        "${{d_n}}^\\infty_{n=1} = (-1)^{2n} + \\frac{1}{n^2}$ -  убывает,  ограниченна   $d_5 = 1.04$"
      ]
    },
    {
      "cell_type": "markdown",
      "metadata": {
        "id": "iDRAcx16TZI4"
      },
      "source": [
        "Найти 12-й член заданной неявно последовательности\n",
        "\n",
        "$a_1 = 128, a_{n+1} - a_n = 6$ $a_{12} = a_1 + (12-1)(a_{n+1} - a_n) = 194$"
      ]
    },
    {
      "cell_type": "markdown",
      "metadata": {
        "id": "Ba3f_lWKTslJ"
      },
      "source": [
        "$a_1 = 128, a_{n+1} - a_n = 6$ $  a_{12} = a_1 + (12-1)(a_{n+1} - a_n) = 194$"
      ]
    },
    {
      "cell_type": "code",
      "metadata": {
        "colab": {
          "base_uri": "https://localhost:8080/"
        },
        "id": "raDzgO38Unxg",
        "outputId": "a1982be7-9a3f-4d7e-e1e5-e7f494bf4f8b"
      },
      "source": [
        "128+11*6"
      ],
      "execution_count": 3,
      "outputs": [
        {
          "output_type": "execute_result",
          "data": {
            "text/plain": [
              "194"
            ]
          },
          "metadata": {
            "tags": []
          },
          "execution_count": 3
        }
      ]
    },
    {
      "cell_type": "markdown",
      "metadata": {
        "id": "aXhLRNG0XmUF"
      },
      "source": [
        "На языке Python предложить алгоритм вычисляющий численно предел\n",
        "  $\\lim _{n \\rightarrow+\\infty} \\frac{n}{\\sqrt[n]{n !}}$с точностью $\\varepsilon=10^{-7}$\n",
        "\n",
        "формула Стирлинга (также формула Муавра — Стирлинга) для аппроксимации функции факториала\n",
        "$$n ! \\approx \\sqrt{2 \\pi n}\\left(\\frac{n}{e}\\right)^{n}$$\n",
        "После подстановки формулы Стирлинга в функцию получаем:\n",
        "$$\\lim _{n \\rightarrow+\\infty} \\frac{e}{\\sqrt[2n]{\\pi n}}$$"
      ]
    },
    {
      "cell_type": "code",
      "metadata": {
        "id": "BSe91TZpXlwr"
      },
      "source": [
        "import numpy as np\n",
        "import itertools\n",
        "def f(n):\n",
        "    return (np.exp(1))/((np.pi*n)**(1/(2*n)))"
      ],
      "execution_count": 8,
      "outputs": []
    },
    {
      "cell_type": "markdown",
      "metadata": {
        "id": "3C10OJrCX3AN"
      },
      "source": [
        "Так как значения функции Стирлинга имеют приближенное значение к значению функции факториала, будем искать такие два ближайшие значения функции, разность которых меньше 1e-09"
      ]
    },
    {
      "cell_type": "code",
      "metadata": {
        "colab": {
          "base_uri": "https://localhost:8080/"
        },
        "id": "kPZgSv_OU39N",
        "outputId": "e260bc8e-bf62-42c1-a968-0dc39dca7ed4"
      },
      "source": [
        "prev = f(1)\n",
        "for i in range(2, 200000000):\n",
        "    new_val = f(i)\n",
        "    if new_val - prev >= 1e-09:\n",
        "        prev = new_val\n",
        "    else:\n",
        "        print(i, new_val, prev)\n",
        "        break"
      ],
      "execution_count": 9,
      "outputs": [
        {
          "output_type": "stream",
          "text": [
            "127163 2.7181439763031636 2.7181439753031715\n"
          ],
          "name": "stdout"
        }
      ]
    }
  ]
}